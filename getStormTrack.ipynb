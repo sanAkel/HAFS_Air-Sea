{
  "nbformat": 4,
  "nbformat_minor": 0,
  "metadata": {
    "colab": {
      "provenance": [],
      "include_colab_link": true
    },
    "kernelspec": {
      "name": "python3",
      "display_name": "Python 3"
    },
    "language_info": {
      "name": "python"
    }
  },
  "cells": [
    {
      "cell_type": "markdown",
      "metadata": {
        "id": "view-in-github",
        "colab_type": "text"
      },
      "source": [
        "<a href=\"https://colab.research.google.com/github/sanAkel/HAFS_Air-Sea/blob/main/getStormTrack.ipynb\" target=\"_parent\"><img src=\"https://colab.research.google.com/assets/colab-badge.svg\" alt=\"Open In Colab\"/></a>"
      ]
    },
    {
      "cell_type": "markdown",
      "source": [
        "Retrives the track of a single hurricane from tropycal. Also saves track subsetted by category or intensitifcation rate."
      ],
      "metadata": {
        "id": "aFWFds6cT1bl"
      }
    },
    {
      "cell_type": "code",
      "source": [
        "from google.colab import drive\n",
        "drive.mount('/content/drive')"
      ],
      "metadata": {
        "id": "BNuN500C29hg"
      },
      "execution_count": null,
      "outputs": []
    },
    {
      "cell_type": "markdown",
      "source": [
        "## Set up environment.\n",
        "\n",
        "Track data comes from [tropycal](https://tropycal.github.io/tropycal/install.html)."
      ],
      "metadata": {
        "id": "MgZEjV1JYsIm"
      }
    },
    {
      "cell_type": "code",
      "source": [
        "!pip install tropycal\n",
        "!pip install cartopy"
      ],
      "metadata": {
        "id": "wDGgQBxjYusr"
      },
      "execution_count": null,
      "outputs": []
    },
    {
      "cell_type": "code",
      "source": [
        "from tropycal import tracks, rain\n",
        "import xarray as xr\n",
        "import pandas as pd\n",
        "import matplotlib.pyplot as plt\n",
        "from datetime import timedelta"
      ],
      "metadata": {
        "id": "vWrr_30yZ4nh"
      },
      "execution_count": null,
      "outputs": []
    },
    {
      "cell_type": "markdown",
      "source": [
        "User Inputs"
      ],
      "metadata": {
        "id": "L_ry__MjUZCo"
      }
    },
    {
      "cell_type": "code",
      "source": [
        "# Basin and year\n",
        "myBasin = 'north_atlantic'\n",
        "year = 2024\n",
        "name = \"Milton\"\n",
        "\n",
        "intThreshold = 96 # Threshold for a major hurricane in kt\n",
        "riThreshold = 30 # Intensification threshold in riTime for RI in kt\n",
        "riTime = 24 # in hr"
      ],
      "metadata": {
        "id": "luqF39EofpfV"
      },
      "execution_count": null,
      "outputs": []
    },
    {
      "cell_type": "markdown",
      "source": [
        "Retrieve storm"
      ],
      "metadata": {
        "id": "STXhOKc6U9M5"
      }
    },
    {
      "cell_type": "code",
      "source": [
        "# Initialize\n",
        "# https://tropycal.github.io/tropycal/api/generated/tropycal.tracks.TrackDataset.html#tropycal.tracks.TrackDataset\n",
        "\n",
        "basin = tracks.TrackDataset(basin=myBasin, source='hurdat', include_btk=True) # include most recent season\n",
        "season = basin.get_season(year)\n",
        "tc = season.get_storm((name, year))\n",
        "print(tc)"
      ],
      "metadata": {
        "id": "6PZ_SG7qZJDx"
      },
      "execution_count": null,
      "outputs": []
    },
    {
      "cell_type": "markdown",
      "source": [
        "Plot TC track"
      ],
      "metadata": {
        "id": "CtIoFtIUVlHZ"
      }
    },
    {
      "cell_type": "code",
      "source": [
        "oPath = f\"/content/drive/MyDrive/tmp/{name}\"\n",
        "\n",
        "!mkdir -p {oPath}\n",
        "\n",
        "tc.plot(map_prop={'figsize':(8,5),'linewidth':0.5, 'state_alpha':0.5})\n",
        "plt.savefig(f'{oPath}/hurdat2_{name}.png')"
      ],
      "metadata": {
        "id": "6IWI3fPzZyok"
      },
      "execution_count": null,
      "outputs": []
    },
    {
      "cell_type": "markdown",
      "source": [
        "Save whole storm track"
      ],
      "metadata": {
        "id": "m8JRzJTpU_c_"
      }
    },
    {
      "cell_type": "code",
      "source": [
        "tc_DF = tc.to_dataframe()\n",
        "tc_DF.to_csv(f'{oPath}/hurdat2_{name}.csv')"
      ],
      "metadata": {
        "id": "MijdMTdba_gm"
      },
      "execution_count": null,
      "outputs": []
    },
    {
      "cell_type": "code",
      "source": [
        "tc_DF"
      ],
      "metadata": {
        "id": "z7-SjFRJV2f4"
      },
      "execution_count": null,
      "outputs": []
    },
    {
      "cell_type": "markdown",
      "source": [
        "Subset by category"
      ],
      "metadata": {
        "id": "eRTvZsdOVoBR"
      }
    },
    {
      "cell_type": "code",
      "execution_count": null,
      "metadata": {
        "id": "JmRmcrmbTybp"
      },
      "outputs": [],
      "source": [
        "tcMajor = tc_DF[tc_DF.vmax >= intThreshold].reset_index()\n",
        "tcMajor.to_csv(f\"{oPath}/hurdat2_{name}_major.csv\")"
      ]
    },
    {
      "cell_type": "code",
      "source": [
        "tcMajor"
      ],
      "metadata": {
        "id": "Hj_3gGX8WaG8"
      },
      "execution_count": null,
      "outputs": []
    },
    {
      "cell_type": "markdown",
      "source": [
        "Subset by Rapid Intensification"
      ],
      "metadata": {
        "id": "jhvto7kCWYQ5"
      }
    },
    {
      "cell_type": "code",
      "source": [
        "#This only works for TCs with a single RI episode in its lifetime\n",
        "riStart = None\n",
        "riEnd = None\n",
        "\n",
        "for row in tc_DF.iloc:\n",
        "  futureTime = row.time + pd.Timedelta(hours=riTime)\n",
        "\n",
        "  if futureTime in list(tc_DF.time):\n",
        "    intensification = float(tc_DF[tc_DF.time == futureTime].vmax - row.vmax)\n",
        "    if intensification >= riThreshold and riStart == None: riStart = row.time\n",
        "    #if intensification < riThreshold and riStart != None and riEnd == None: riEnd = row.time"
      ],
      "metadata": {
        "id": "t_7aDNGWaG3S"
      },
      "execution_count": null,
      "outputs": []
    },
    {
      "cell_type": "code",
      "source": [
        "riStart"
      ],
      "metadata": {
        "id": "63oRcEaBvw7s"
      },
      "execution_count": null,
      "outputs": []
    },
    {
      "cell_type": "code",
      "source": [
        "riEnd = max(tc_DF[tc_DF.vmax==max(tc_DF.vmax)].time) #This only works for a TC where RI ends once the TC reaches its peak intensity"
      ],
      "metadata": {
        "id": "Jkfm9L2izNRZ"
      },
      "execution_count": null,
      "outputs": []
    },
    {
      "cell_type": "code",
      "source": [
        "riEnd"
      ],
      "metadata": {
        "id": "zdXiKN8jvx8y"
      },
      "execution_count": null,
      "outputs": []
    },
    {
      "cell_type": "code",
      "source": [
        "postRIStart = tc_DF[tc_DF.time >= riStart]\n",
        "tcRI = postRIStart[postRIStart.time <= riEnd].reset_index()\n",
        "tcRI.to_csv(f\"{oPath}/hurdat2_{name}_RI.csv\")"
      ],
      "metadata": {
        "id": "T_6JaKGwpFNn"
      },
      "execution_count": null,
      "outputs": []
    },
    {
      "cell_type": "code",
      "source": [
        "tcRI"
      ],
      "metadata": {
        "id": "wNg7-xWc4dqs"
      },
      "execution_count": null,
      "outputs": []
    },
    {
      "source": [
        "# @title time vs mslp\n",
        "\n",
        "from matplotlib import pyplot as plt\n",
        "import seaborn as sns\n",
        "def _plot_series(series, series_name, series_index=0):\n",
        "  palette = list(sns.palettes.mpl_palette('Dark2'))\n",
        "  xs = series['time']\n",
        "  ys = series['mslp']\n",
        "\n",
        "  plt.plot(xs, ys, label=series_name, color=palette[series_index % len(palette)])\n",
        "\n",
        "fig, ax = plt.subplots(figsize=(10, 5.2), layout='constrained')\n",
        "df_sorted = tcRI.sort_values('time', ascending=True)\n",
        "for i, (series_name, series) in enumerate(df_sorted.groupby('type')):\n",
        "  _plot_series(series, series_name, i)\n",
        "  fig.legend(title='type', bbox_to_anchor=(1, 1), loc='upper left')\n",
        "sns.despine(fig=fig, ax=ax)\n",
        "plt.xlabel('time')\n",
        "_ = plt.ylabel('mslp')"
      ],
      "cell_type": "code",
      "execution_count": null,
      "outputs": [],
      "metadata": {
        "id": "wYE_kBe9Ax0k"
      }
    }
  ]
}